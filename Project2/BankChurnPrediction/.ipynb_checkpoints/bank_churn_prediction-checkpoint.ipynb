{
 "cells": [
  {
   "cell_type": "code",
   "execution_count": null,
   "id": "ea9fd16d",
   "metadata": {
    "vscode": {
     "languageId": "plaintext"
    }
   },
   "outputs": [],
   "source": [
    "# Projeto: Previsão de Churn em Clientes de Banco\n",
    "# Alunos: [Nome1], [Nome2], [Nome3]\n",
    "\n",
    "# Importação de bibliotecas\n",
    "import pandas as pd\n",
    "import numpy as np\n",
    "import matplotlib.pyplot as plt\n",
    "import seaborn as sns\n"
   ]
  }
 ],
 "metadata": {
  "language_info": {
   "name": "python"
  }
 },
 "nbformat": 4,
 "nbformat_minor": 5
}
